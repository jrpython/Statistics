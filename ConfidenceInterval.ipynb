{
 "cells": [
  {
   "cell_type": "markdown",
   "metadata": {},
   "source": [
    "## Confidence Interval\n",
    "This code will help to understand the concept of Confidence Interval.<br>\n",
    "\n",
    "<b>So what is Confidence Interval?</b><br>\n",
    "The confidence interval (CI): A confidence interval is an estimate of an interval in statistics that may contain a population parameter. The unknown population parameter is found through a sample parameter calculated from the sampled data. For example, the population mean μ is found using the sample mean $\\bar{x}$.\n",
    "\n",
    "<b>How is confidence interval defined</b>\n",
    "The interval is generally defined by its lower and upper bounds. The confidence interval is expressed as a percentage (the most frequently quoted percentages are 90%, 95%, and 99%). The percentage reflects the confidence level.\n",
    "\n",
    "<b>How the output of this code going to help me?</b><br>\n",
    "Output in _Step 4_ states how increase in smaple size affects capturing of population mean<br>\n",
    "_Step 5_ provies statistics for output in tabular format\n",
    "\n",
    "<b>Does this code provides any kind of plots?</b><br>\n",
    "Yes, _Step 6_ provides plot of percent of samples capturing population mean vs log of sample size. Here log of sample size is taken since without it points would be scattered too far on the plot\n",
    "\n",
    "<b>Can the statistics be extarcted in excel</b><br>\n",
    "Yes, in _Step 8_ the statistics can exported in excel"
   ]
  },
  {
   "cell_type": "markdown",
   "metadata": {},
   "source": [
    "<b><ins>Step 1</ins>: Import libraries</b>"
   ]
  },
  {
   "cell_type": "code",
   "execution_count": 1,
   "metadata": {},
   "outputs": [],
   "source": [
    "import matplotlib.pyplot as plt\n",
    "import numpy as np\n",
    "import random\n",
    "import statistics\n",
    "from datetime import datetime\n",
    "import pandas as pd\n",
    "from scipy import stats\n",
    "import warnings\n",
    "warnings.filterwarnings('ignore')"
   ]
  },
  {
   "cell_type": "markdown",
   "metadata": {},
   "source": [
    "<b><ins>Step 2</ins>: Set \n",
    "    * Population size\n",
    "    * Confidence interval\n",
    "    * List of different sample sizes\n",
    "    * Number of samples to be polled\n",
    "<b>"
   ]
  },
  {
   "cell_type": "code",
   "execution_count": 2,
   "metadata": {},
   "outputs": [],
   "source": [
    "# Population size\n",
    "population_size = 100000\n",
    "\n",
    "# Confidence\n",
    "confidence = 0.95\n",
    "\n",
    "# Sample size\n",
    "n_list = [2, 4, 10, 20, 30, 50, 100, 200, 500, 1000, 2000, 5000, 10000]\n",
    "\n",
    "# Number of sample to be polled\n",
    "number_of_sample = 10000"
   ]
  },
  {
   "cell_type": "markdown",
   "metadata": {},
   "source": [
    "<b><ins>Step 3</ins>: Generate population data</b><br><br>\n",
    "Distribution: Exponential"
   ]
  },
  {
   "cell_type": "code",
   "execution_count": 3,
   "metadata": {},
   "outputs": [
    {
     "name": "stdout",
     "output_type": "stream",
     "text": [
      "Total population: 100000  Population mean: 10.0353 Population standard deviation: 10.0772  Max: 143.6435  Min:  0.0002\n"
     ]
    },
    {
     "data": {
      "image/png": "[encoded data removed]",
      "text/plain": [
       "<Figure size 432x288 with 1 Axes>"
      ]
     },
     "metadata": {
      "needs_background": "light"
     },
     "output_type": "display_data"
    }
   ],
   "source": [
    "# Generate population\n",
    "# Exponential distribution\n",
    "\n",
    "plt.figure() \n",
    "a = np.random.exponential(10, population_size)\n",
    "a = np.sort(a)[::-1]\n",
    "plt.plot(a)\n",
    "population_mean = round(np.mean(a), 4)\n",
    "population_sd = round(np.std(a), 4)\n",
    "print(\"Total population:\", str(population_size), \" Population mean:\", population_mean,  \"Population standard deviation:\", population_sd,\n",
    "      \" Max:\", round(list(a)[0], 4), \" Min: \", round(list(a)[population_size-1], 4))"
   ]
  },
  {
   "cell_type": "code",
   "execution_count": 4,
   "metadata": {},
   "outputs": [],
   "source": [
    "def mean_confidence_interval(data, confidence):\n",
    "    a = 1.0 * np.array(data)\n",
    "    n = len(data)\n",
    "    m, se = np.mean(a), stats.sem(a)\n",
    "    h = se * stats.t.ppf((1 + confidence) / 2., n-1)\n",
    "    return m, m-h, m+h"
   ]
  },
  {
   "cell_type": "code",
   "execution_count": 5,
   "metadata": {},
   "outputs": [],
   "source": [
    "def generate_list_of_mean(n):\n",
    "    \n",
    "    list_of_mean = []\n",
    "    # Convert to list and into float at the same time\n",
    "    a_list = list(np.float_(a))\n",
    "    i=0\n",
    "    for _ in range(number_of_sample):\n",
    "        sample = []\n",
    "        # Generate random sample without replacement\n",
    "        sample = random.sample(a_list, n)\n",
    "        # print(\"sample:\",sample)\n",
    "        sample_mean, sample_lower_95CI, sample_higher_95CI = mean_confidence_interval(sample, confidence)\n",
    "        population_mean_in_ci_range = is_population_mean_in_ci_for_sample(sample_lower_95CI, sample_higher_95CI)\n",
    "        if population_mean_in_ci_range:\n",
    "            i = i + 1\n",
    "        # print(\"Sample Lower CI:\", sample_lower_95CI, \"Sample Higher CI:\", sample_higher_95CI)\n",
    "        # print(\"Is population mean in CI for sample:\", population_mean_in_ci_range)\n",
    "    return round((i/number_of_sample), 2)"
   ]
  },
  {
   "cell_type": "code",
   "execution_count": 6,
   "metadata": {},
   "outputs": [],
   "source": [
    "def is_population_mean_in_ci_for_sample(sample_lower_95CI, sample_higher_95CI):\n",
    "    # print(\"Population mean:\", population_mean)\n",
    "    if population_mean <= sample_higher_95CI and population_mean>= sample_lower_95CI:\n",
    "        return True\n",
    "    else:\n",
    "        return False"
   ]
  },
  {
   "cell_type": "code",
   "execution_count": 7,
   "metadata": {},
   "outputs": [],
   "source": [
    "import pathlib\n",
    "\n",
    "def write_df_to_excel(df):\n",
    "    # Converting datetime object to string\n",
    "    dateTimeObj = datetime.now()\n",
    "    timestampStr = dateTimeObj.strftime(\"%Y%m%d%H%M%S\")\n",
    "\n",
    "    output_excel_name = \"confidence_interval_\"+str(timestampStr)+\".xlsx\"\n",
    "\n",
    "    df.to_excel(output_excel_name, index=0)\n",
    "    print(\"Parameter data written to new excel:\", output_excel_name)"
   ]
  },
  {
   "cell_type": "code",
   "execution_count": 9,
   "metadata": {
    "scrolled": true
   },
   "outputs": [],
   "source": [
    "def rotate_for_each_sample_size():\n",
    "    res_array = []\n",
    "    for n in n_list:\n",
    "        percent_ci_range_covering_pop_mean = generate_list_of_mean(n)\n",
    "\n",
    "        print(\"For sample size (\"+ str(n) +\"):\" + str(round(round(percent_ci_range_covering_pop_mean*100, 0), 0)) +\n",
    "              \"% of sample captures population mean with \"+ str(confidence*100) +\"% Confidence Interval\")\n",
    "        \n",
    "        return_array = (\n",
    "            {\n",
    "                'Population size': population_size,\n",
    "                'Population mean': population_mean,\n",
    "                'Population sd': population_sd,\n",
    "                'Confidence': confidence,\n",
    "                'Samples pooled': number_of_sample,\n",
    "                'Sample size' : n,\n",
    "                'Percent of samples capturing population mean within CI': percent_ci_range_covering_pop_mean\n",
    "            }\n",
    "        )\n",
    "        res_array.append(return_array)\n",
    "    return res_array"
   ]
  },
  {
   "cell_type": "markdown",
   "metadata": {},
   "source": [
    "<b><ins>Step 4</ins>: Output </b>"
   ]
  },
  {
   "cell_type": "code",
   "execution_count": 10,
   "metadata": {},
   "outputs": [
    {
     "name": "stdout",
     "output_type": "stream",
     "text": [
      "For sample size (2):92.0% of sample captures population mean with 95.0% Confidence Interval\n",
      "For sample size (4):87.0% of sample captures population mean with 95.0% Confidence Interval\n",
      "For sample size (10):90.0% of sample captures population mean with 95.0% Confidence Interval\n",
      "For sample size (20):92.0% of sample captures population mean with 95.0% Confidence Interval\n",
      "For sample size (30):93.0% of sample captures population mean with 95.0% Confidence Interval\n",
      "For sample size (50):93.0% of sample captures population mean with 95.0% Confidence Interval\n",
      "For sample size (100):94.0% of sample captures population mean with 95.0% Confidence Interval\n",
      "For sample size (200):95.0% of sample captures population mean with 95.0% Confidence Interval\n",
      "For sample size (500):95.0% of sample captures population mean with 95.0% Confidence Interval\n",
      "For sample size (1000):95.0% of sample captures population mean with 95.0% Confidence Interval\n",
      "For sample size (2000):95.0% of sample captures population mean with 95.0% Confidence Interval\n",
      "For sample size (5000):96.0% of sample captures population mean with 95.0% Confidence Interval\n",
      "For sample size (10000):96.0% of sample captures population mean with 95.0% Confidence Interval\n"
     ]
    }
   ],
   "source": [
    "result_array = []\n",
    "result_array = rotate_for_each_sample_size()\n",
    "final_df = pd.DataFrame(result_array)"
   ]
  },
  {
   "cell_type": "markdown",
   "metadata": {},
   "source": [
    "<b><ins>Step 5</ins>: Output statistics </b>"
   ]
  },
  {
   "cell_type": "code",
   "execution_count": 12,
   "metadata": {},
   "outputs": [
    {
     "data": {
      "text/html": [
       "<div>\n",
       "<style scoped>\n",
       "    .dataframe tbody tr th:only-of-type {\n",
       "        vertical-align: middle;\n",
       "    }\n",
       "\n",
       "    .dataframe tbody tr th {\n",
       "        vertical-align: top;\n",
       "    }\n",
       "\n",
       "    .dataframe thead th {\n",
       "        text-align: right;\n",
       "    }\n",
       "</style>\n",
       "<table border=\"1\" class=\"dataframe\">\n",
       "  <thead>\n",
       "    <tr style=\"text-align: right;\">\n",
       "      <th></th>\n",
       "      <th>Population size</th>\n",
       "      <th>Population mean</th>\n",
       "      <th>Population sd</th>\n",
       "      <th>Confidence</th>\n",
       "      <th>Samples pooled</th>\n",
       "      <th>Sample size</th>\n",
       "      <th>Percent of samples capturing population mean within CI</th>\n",
       "      <th>Log of sample size</th>\n",
       "    </tr>\n",
       "  </thead>\n",
       "  <tbody>\n",
       "    <tr>\n",
       "      <td>0</td>\n",
       "      <td>100000</td>\n",
       "      <td>10.0353</td>\n",
       "      <td>10.0772</td>\n",
       "      <td>0.95</td>\n",
       "      <td>10000</td>\n",
       "      <td>2</td>\n",
       "      <td>0.92</td>\n",
       "      <td>0.693147</td>\n",
       "    </tr>\n",
       "    <tr>\n",
       "      <td>1</td>\n",
       "      <td>100000</td>\n",
       "      <td>10.0353</td>\n",
       "      <td>10.0772</td>\n",
       "      <td>0.95</td>\n",
       "      <td>10000</td>\n",
       "      <td>4</td>\n",
       "      <td>0.87</td>\n",
       "      <td>1.386294</td>\n",
       "    </tr>\n",
       "    <tr>\n",
       "      <td>2</td>\n",
       "      <td>100000</td>\n",
       "      <td>10.0353</td>\n",
       "      <td>10.0772</td>\n",
       "      <td>0.95</td>\n",
       "      <td>10000</td>\n",
       "      <td>10</td>\n",
       "      <td>0.90</td>\n",
       "      <td>2.302585</td>\n",
       "    </tr>\n",
       "    <tr>\n",
       "      <td>3</td>\n",
       "      <td>100000</td>\n",
       "      <td>10.0353</td>\n",
       "      <td>10.0772</td>\n",
       "      <td>0.95</td>\n",
       "      <td>10000</td>\n",
       "      <td>20</td>\n",
       "      <td>0.92</td>\n",
       "      <td>2.995732</td>\n",
       "    </tr>\n",
       "    <tr>\n",
       "      <td>4</td>\n",
       "      <td>100000</td>\n",
       "      <td>10.0353</td>\n",
       "      <td>10.0772</td>\n",
       "      <td>0.95</td>\n",
       "      <td>10000</td>\n",
       "      <td>30</td>\n",
       "      <td>0.93</td>\n",
       "      <td>3.401197</td>\n",
       "    </tr>\n",
       "    <tr>\n",
       "      <td>5</td>\n",
       "      <td>100000</td>\n",
       "      <td>10.0353</td>\n",
       "      <td>10.0772</td>\n",
       "      <td>0.95</td>\n",
       "      <td>10000</td>\n",
       "      <td>50</td>\n",
       "      <td>0.93</td>\n",
       "      <td>3.912023</td>\n",
       "    </tr>\n",
       "    <tr>\n",
       "      <td>6</td>\n",
       "      <td>100000</td>\n",
       "      <td>10.0353</td>\n",
       "      <td>10.0772</td>\n",
       "      <td>0.95</td>\n",
       "      <td>10000</td>\n",
       "      <td>100</td>\n",
       "      <td>0.94</td>\n",
       "      <td>4.605170</td>\n",
       "    </tr>\n",
       "    <tr>\n",
       "      <td>7</td>\n",
       "      <td>100000</td>\n",
       "      <td>10.0353</td>\n",
       "      <td>10.0772</td>\n",
       "      <td>0.95</td>\n",
       "      <td>10000</td>\n",
       "      <td>200</td>\n",
       "      <td>0.95</td>\n",
       "      <td>5.298317</td>\n",
       "    </tr>\n",
       "    <tr>\n",
       "      <td>8</td>\n",
       "      <td>100000</td>\n",
       "      <td>10.0353</td>\n",
       "      <td>10.0772</td>\n",
       "      <td>0.95</td>\n",
       "      <td>10000</td>\n",
       "      <td>500</td>\n",
       "      <td>0.95</td>\n",
       "      <td>6.214608</td>\n",
       "    </tr>\n",
       "    <tr>\n",
       "      <td>9</td>\n",
       "      <td>100000</td>\n",
       "      <td>10.0353</td>\n",
       "      <td>10.0772</td>\n",
       "      <td>0.95</td>\n",
       "      <td>10000</td>\n",
       "      <td>1000</td>\n",
       "      <td>0.95</td>\n",
       "      <td>6.907755</td>\n",
       "    </tr>\n",
       "    <tr>\n",
       "      <td>10</td>\n",
       "      <td>100000</td>\n",
       "      <td>10.0353</td>\n",
       "      <td>10.0772</td>\n",
       "      <td>0.95</td>\n",
       "      <td>10000</td>\n",
       "      <td>2000</td>\n",
       "      <td>0.95</td>\n",
       "      <td>7.600902</td>\n",
       "    </tr>\n",
       "    <tr>\n",
       "      <td>11</td>\n",
       "      <td>100000</td>\n",
       "      <td>10.0353</td>\n",
       "      <td>10.0772</td>\n",
       "      <td>0.95</td>\n",
       "      <td>10000</td>\n",
       "      <td>5000</td>\n",
       "      <td>0.96</td>\n",
       "      <td>8.517193</td>\n",
       "    </tr>\n",
       "    <tr>\n",
       "      <td>12</td>\n",
       "      <td>100000</td>\n",
       "      <td>10.0353</td>\n",
       "      <td>10.0772</td>\n",
       "      <td>0.95</td>\n",
       "      <td>10000</td>\n",
       "      <td>10000</td>\n",
       "      <td>0.96</td>\n",
       "      <td>9.210340</td>\n",
       "    </tr>\n",
       "  </tbody>\n",
       "</table>\n",
       "</div>"
      ],
      "text/plain": [
       "    Population size  Population mean  Population sd  Confidence  \\\n",
       "0            100000          10.0353        10.0772        0.95   \n",
       "1            100000          10.0353        10.0772        0.95   \n",
       "2            100000          10.0353        10.0772        0.95   \n",
       "3            100000          10.0353        10.0772        0.95   \n",
       "4            100000          10.0353        10.0772        0.95   \n",
       "5            100000          10.0353        10.0772        0.95   \n",
       "6            100000          10.0353        10.0772        0.95   \n",
       "7            100000          10.0353        10.0772        0.95   \n",
       "8            100000          10.0353        10.0772        0.95   \n",
       "9            100000          10.0353        10.0772        0.95   \n",
       "10           100000          10.0353        10.0772        0.95   \n",
       "11           100000          10.0353        10.0772        0.95   \n",
       "12           100000          10.0353        10.0772        0.95   \n",
       "\n",
       "    Samples pooled  Sample size  \\\n",
       "0            10000            2   \n",
       "1            10000            4   \n",
       "2            10000           10   \n",
       "3            10000           20   \n",
       "4            10000           30   \n",
       "5            10000           50   \n",
       "6            10000          100   \n",
       "7            10000          200   \n",
       "8            10000          500   \n",
       "9            10000         1000   \n",
       "10           10000         2000   \n",
       "11           10000         5000   \n",
       "12           10000        10000   \n",
       "\n",
       "    Percent of samples capturing population mean within CI  Log of sample size  \n",
       "0                                                0.92                 0.693147  \n",
       "1                                                0.87                 1.386294  \n",
       "2                                                0.90                 2.302585  \n",
       "3                                                0.92                 2.995732  \n",
       "4                                                0.93                 3.401197  \n",
       "5                                                0.93                 3.912023  \n",
       "6                                                0.94                 4.605170  \n",
       "7                                                0.95                 5.298317  \n",
       "8                                                0.95                 6.214608  \n",
       "9                                                0.95                 6.907755  \n",
       "10                                               0.95                 7.600902  \n",
       "11                                               0.96                 8.517193  \n",
       "12                                               0.96                 9.210340  "
      ]
     },
     "execution_count": 12,
     "metadata": {},
     "output_type": "execute_result"
    }
   ],
   "source": [
    "final_df['Log of sample size'] = np.log(final_df['Sample size'])\n",
    "final_df"
   ]
  },
  {
   "cell_type": "markdown",
   "metadata": {},
   "source": [
    "<b><ins>Step 6</ins>: Plot for confidence interval</b>"
   ]
  },
  {
   "cell_type": "code",
   "execution_count": 17,
   "metadata": {},
   "outputs": [
    {
     "data": {
      "text/plain": [
       "<Figure size 800x800 with 0 Axes>"
      ]
     },
     "metadata": {},
     "output_type": "display_data"
    },
    {
     "data": {
      "image/png": "[encoded data removed]",
      "text/plain": [
       "<Figure size 720x720 with 1 Axes>"
      ]
     },
     "metadata": {
      "needs_background": "light"
     },
     "output_type": "display_data"
    }
   ],
   "source": [
    "# Plot\n",
    "plt.rcParams[\"figure.figsize\"] = (10, 10)\n",
    "plt.figure(num=None, dpi=80, facecolor='w', edgecolor='k')\n",
    "\n",
    "final_df.plot(x='Log of sample size', y='Percent of samples capturing population mean within CI', style='o', legend=None )\n",
    "\n",
    "title = \"Percent of samples capturing population mean\\nwith \"+ str(confidence*100) +\"% confidence interval (vertical axis)\\nvs Log of sample size\"\n",
    "\n",
    "plt.title(title, fontsize=16)\n",
    "plt.ylabel('Percent', fontsize=14)\n",
    "plt.xlabel('Log of sample size', fontsize=14)\n",
    "plt.axhline(confidence, color='k', linestyle='--')\n",
    "plt.grid(True, which='both')\n",
    "plt.tight_layout()\n",
    "plt.show()"
   ]
  },
  {
   "cell_type": "markdown",
   "metadata": {},
   "source": [
    "<b><ins>Step 7</ins>: Conclusion</b>"
   ]
  },
  {
   "cell_type": "markdown",
   "metadata": {},
   "source": [
    "<b>From the above output it can be conclusively said that as sample size increases or reaches more closer to population size, more and more sample captures population mean in Confidence interval</b>\n",
    "\n",
    "<b>Note:</b> Confidence interval is not same as a range that contains 95% of the values."
   ]
  },
  {
   "cell_type": "markdown",
   "metadata": {},
   "source": [
    "<b><ins>Step 8</ins>: Write to excel (Optional)</b>"
   ]
  },
  {
   "cell_type": "code",
   "execution_count": 16,
   "metadata": {},
   "outputs": [
    {
     "name": "stdout",
     "output_type": "stream",
     "text": [
      "Parameter data written to new excel: confidence_interval_20200908222153.xlsx\n"
     ]
    }
   ],
   "source": [
    "write_df_to_excel(final_df)"
   ]
  }
 ],
 "metadata": {
  "kernelspec": {
   "display_name": "Python 3",
   "language": "python",
   "name": "python3"
  },
  "language_info": {
   "codemirror_mode": {
    "name": "ipython",
    "version": 3
   },
   "file_extension": ".py",
   "mimetype": "text/x-python",
   "name": "python",
   "nbconvert_exporter": "python",
   "pygments_lexer": "ipython3",
   "version": "3.7.4"
  }
 },
 "nbformat": 4,
 "nbformat_minor": 2
}
